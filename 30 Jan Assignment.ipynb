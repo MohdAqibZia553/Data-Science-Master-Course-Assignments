{
 "cells": [
  {
   "cell_type": "markdown",
   "id": "16ca1f38-8ef4-4ed0-9995-47963f925901",
   "metadata": {},
   "source": [
    "###                                         30 Jan Assignment"
   ]
  },
  {
   "cell_type": "markdown",
   "id": "6e2d065d-a99c-4f27-8963-146cfe93215d",
   "metadata": {},
   "source": [
    "Q.1) Write a program to accept percentage from the user and display the grade according to the following criteria:"
   ]
  },
  {
   "cell_type": "code",
   "execution_count": 7,
   "id": "a12fa7f4-97c7-4969-9b19-504363ab1dfb",
   "metadata": {},
   "outputs": [
    {
     "name": "stdin",
     "output_type": "stream",
     "text": [
      "Enter your percentage 67\n"
     ]
    },
    {
     "name": "stdout",
     "output_type": "stream",
     "text": [
      "Grade C\n"
     ]
    }
   ],
   "source": [
    "percentage=int(input(\"Enter your percentage\"))\n",
    "if percentage>90:\n",
    "    print(\"Grade A\")\n",
    "elif percentage>80 and percentage<=90:\n",
    "    print(\"Grade B\")\n",
    "elif percentage>=60 and percentage<=80:\n",
    "    print(\"Grade C\")\n",
    "else:\n",
    "    print(\"Grade D\")"
   ]
  },
  {
   "cell_type": "markdown",
   "id": "28271fdf-f6a9-458e-adfd-9ced0cd00450",
   "metadata": {},
   "source": [
    "Q.2) Write a program to accept the cost price of a bike and display the road tax to be paid according to the following criteria:"
   ]
  },
  {
   "cell_type": "code",
   "execution_count": 9,
   "id": "50ffa3e0-35a5-4b5d-b3d7-20bb5cef508f",
   "metadata": {},
   "outputs": [
    {
     "name": "stdin",
     "output_type": "stream",
     "text": [
      "Enter the cost price of Bike 50000\n"
     ]
    },
    {
     "name": "stdout",
     "output_type": "stream",
     "text": [
      "You Have To Pay 5% Tax\n"
     ]
    }
   ],
   "source": [
    "cost=int(input(\"Enter the cost price of Bike\"))\n",
    "if cost > 100000:\n",
    "    print(\"You Have To Pay 15% Tax\")\n",
    "elif cost >50000 and cost <= 100000:\n",
    "    print(\"You Have To Pay 10% Tax\")\n",
    "else:\n",
    "    print(\"You Have To Pay 5% Tax\")"
   ]
  },
  {
   "cell_type": "markdown",
   "id": "07af1e2a-ff99-4423-b7d3-22f4ce08c73b",
   "metadata": {},
   "source": [
    "Q.3) Accept any city from the user and display monuments of that city."
   ]
  },
  {
   "cell_type": "code",
   "execution_count": 10,
   "id": "baaab38d-228f-4a10-8941-e5613c96752f",
   "metadata": {},
   "outputs": [
    {
     "name": "stdin",
     "output_type": "stream",
     "text": [
      "Enter Your City From Delhi, Agra or Jaipur And Get Your City's Monument:  Delhi\n"
     ]
    },
    {
     "name": "stdout",
     "output_type": "stream",
     "text": [
      "Red Fort\n"
     ]
    }
   ],
   "source": [
    "city = input(\"Enter Your City From Delhi, Agra or Jaipur And Get Your City's Monument: \")\n",
    "\n",
    "if city == \"Delhi\":\n",
    "    print(\"Red Fort\")\n",
    "elif city == \"Agra\":\n",
    "    print(\"Taj Mahal\")\n",
    "elif city == \"Jaipur\":\n",
    "    print(\"Jal Mahal\")\n",
    "else:\n",
    "    print(\"You Have Not Entered City From The List Given.\")"
   ]
  },
  {
   "cell_type": "markdown",
   "id": "e29c1fb2-dfee-49e1-8eff-907784ff636a",
   "metadata": {},
   "source": [
    "Q.4) Check how many times a given number can be divided by 3 before it is less than or equal to 10"
   ]
  },
  {
   "cell_type": "code",
   "execution_count": 12,
   "id": "960dd9ad-9a5f-479e-b12a-c072d9ab3d25",
   "metadata": {},
   "outputs": [
    {
     "name": "stdin",
     "output_type": "stream",
     "text": [
      "Enter A Number Greater Than 10:  15\n"
     ]
    },
    {
     "name": "stdout",
     "output_type": "stream",
     "text": [
      "2\n"
     ]
    }
   ],
   "source": [
    "n=int(input(\"Enter A Number Greater Than 10: \"))\n",
    "count=0\n",
    "while n>=10:\n",
    "    if n%3==0:\n",
    "        count=count+1\n",
    "    n=n-1\n",
    "print(count)"
   ]
  },
  {
   "cell_type": "markdown",
   "id": "fbd6d124-91fe-47c9-88e1-015257fd789e",
   "metadata": {},
   "source": [
    "Q.5) Why and When to Use while Loop in Python give a detailed description with example."
   ]
  },
  {
   "cell_type": "markdown",
   "id": "ae35ae0d-5657-4f79-b0c4-56e7dada9f93",
   "metadata": {},
   "source": [
    "A while loop can be used when the code requires a certain condition to meet. If the condition is True, the code written will work fine but it will keep running continuously. If the code is not written well to somehow end the condition, which means when the condition is not met and it is False, the loop will stop.\n",
    "Below is the example of a while loop that calculates the sum of numbers, until user finally enters 0."
   ]
  },
  {
   "cell_type": "code",
   "execution_count": 13,
   "id": "1b76b14d-9aae-40a3-9f02-dc8d59aa85d0",
   "metadata": {},
   "outputs": [
    {
     "name": "stdin",
     "output_type": "stream",
     "text": [
      "Enter a number:  34\n",
      "Enter a number:  3\n",
      "Enter a number:  4\n",
      "Enter a number:  5\n",
      "Enter a number:  0\n"
     ]
    },
    {
     "name": "stdout",
     "output_type": "stream",
     "text": [
      "Total = 46\n"
     ]
    }
   ],
   "source": [
    "total = 0\n",
    "number = int(input(\"Enter a number: \"))\n",
    "\n",
    "while number != 0:\n",
    "    total = total + number    \n",
    "    number = int(input(\"Enter a number: \"))\n",
    "\n",
    "print(\"Total =\", total)"
   ]
  },
  {
   "cell_type": "markdown",
   "id": "dbbf61dd-682b-4618-afe6-69ce5c9bf5a3",
   "metadata": {},
   "source": [
    "Q.6) Use nested while loop to print 3 different pattern."
   ]
  },
  {
   "cell_type": "code",
   "execution_count": 14,
   "id": "29309f1a-1f95-46bd-9043-bfa255d48955",
   "metadata": {},
   "outputs": [
    {
     "name": "stdout",
     "output_type": "stream",
     "text": [
      "* * * * * * \n",
      "* * * * * * \n",
      "* * * * * * \n",
      "* * * * * * \n",
      "* * * * * * \n"
     ]
    }
   ],
   "source": [
    "# Square Pattern\n",
    "i=1\n",
    "while i<=5:\n",
    "    i+=1\n",
    "    j=0\n",
    "    while j<=5:\n",
    "        print(\"*\",end=\" \")\n",
    "        j+=1\n",
    "    print()"
   ]
  },
  {
   "cell_type": "code",
   "execution_count": 15,
   "id": "9cf93558-f353-4a3b-8e88-3f7d5924de5f",
   "metadata": {},
   "outputs": [
    {
     "name": "stdout",
     "output_type": "stream",
     "text": [
      "* \n",
      "* * \n",
      "* * * \n",
      "* * * * \n",
      "* * * * * \n"
     ]
    }
   ],
   "source": [
    "# right angle triangle\n",
    "\n",
    "i = 1\n",
    "while i <= 5:\n",
    "    j = 1\n",
    "    while j <= i:\n",
    "        print(\"* \", end=\"\")\n",
    "        j += 1\n",
    "    print(\"\")\n",
    "    i += 1"
   ]
  },
  {
   "cell_type": "code",
   "execution_count": 16,
   "id": "cd6f58b0-edb1-44de-a58b-3ef62aa61850",
   "metadata": {},
   "outputs": [
    {
     "name": "stdout",
     "output_type": "stream",
     "text": [
      "* * * * * \n",
      "  * * * * \n",
      "    * * * \n",
      "      * * \n",
      "        * \n"
     ]
    }
   ],
   "source": [
    "# inverse right angle triangle\n",
    "\n",
    "rows = 5\n",
    "i = rows\n",
    "while i >= 1:\n",
    "    j = rows\n",
    "    while j > i:\n",
    "        # display space\n",
    "        print(' ', end=' ')\n",
    "        j -= 1\n",
    "    k = 1\n",
    "    while k <= i:\n",
    "        print('*', end=' ')\n",
    "        k += 1\n",
    "    print()\n",
    "    i -= 1"
   ]
  },
  {
   "cell_type": "markdown",
   "id": "bcd021cf-2d3a-4c66-8cff-8a2d60282e8a",
   "metadata": {},
   "source": [
    "Q.7) Reverse a while loop to display numbers from 10 to 1."
   ]
  },
  {
   "cell_type": "code",
   "execution_count": 17,
   "id": "8477b96f-69f0-4913-9653-8318fb107f1e",
   "metadata": {},
   "outputs": [
    {
     "name": "stdout",
     "output_type": "stream",
     "text": [
      "10\n",
      "9\n",
      "8\n",
      "7\n",
      "6\n",
      "5\n",
      "4\n",
      "3\n",
      "2\n",
      "1\n"
     ]
    }
   ],
   "source": [
    "n=10\n",
    "\n",
    "while n!=0:\n",
    "    print(n)\n",
    "    n=n-1"
   ]
  },
  {
   "cell_type": "markdown",
   "id": "221c75de-92d7-4485-8366-05cbfae39246",
   "metadata": {},
   "source": [
    "Q.8) Reverse a while loop to display numbers from 10 to 1."
   ]
  },
  {
   "cell_type": "code",
   "execution_count": 18,
   "id": "48a1e96c-8444-4a6d-aa99-fa2f56bb5d27",
   "metadata": {},
   "outputs": [
    {
     "name": "stdout",
     "output_type": "stream",
     "text": [
      "10\n",
      "9\n",
      "8\n",
      "7\n",
      "6\n",
      "5\n",
      "4\n",
      "3\n",
      "2\n",
      "1\n"
     ]
    }
   ],
   "source": [
    "n=10\n",
    "\n",
    "while n!=0:\n",
    "    print(n)\n",
    "    n=n-1"
   ]
  }
 ],
 "metadata": {
  "kernelspec": {
   "display_name": "Python 3 (ipykernel)",
   "language": "python",
   "name": "python3"
  },
  "language_info": {
   "codemirror_mode": {
    "name": "ipython",
    "version": 3
   },
   "file_extension": ".py",
   "mimetype": "text/x-python",
   "name": "python",
   "nbconvert_exporter": "python",
   "pygments_lexer": "ipython3",
   "version": "3.10.8"
  }
 },
 "nbformat": 4,
 "nbformat_minor": 5
}
