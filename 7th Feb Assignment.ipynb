{
 "cells": [
  {
   "cell_type": "code",
   "execution_count": 3,
   "id": "64f94d06-129e-4d95-bf3b-55e3b5e903a8",
   "metadata": {},
   "outputs": [
    {
     "name": "stdin",
     "output_type": "stream",
     "text": [
      "Enter password :  asAS12@#$2\n"
     ]
    },
    {
     "name": "stdout",
     "output_type": "stream",
     "text": [
      "Valid Password\n"
     ]
    }
   ],
   "source": [
    "pwd = input('Enter password : ')\n",
    "\n",
    "def password(pwd):\n",
    "    upper_count = 0\n",
    "    lower_count = 0\n",
    "    number_count = 0\n",
    "    special_char = 0\n",
    "    for i in pwd:\n",
    "        if i.isupper() == True:\n",
    "            upper_count = upper_count + 1\n",
    "        elif i.islower() == True:\n",
    "            lower_count = lower_count + 1\n",
    "        elif i.isdigit() == True:\n",
    "            number_count = number_count + 1\n",
    "        else :\n",
    "            special_char = special_char + 1\n",
    "    if upper_count >= 2 and lower_count >= 2 and number_count >= 1 and special_char >= 3 and len(pwd) >= 10:\n",
    "        return 'Valid Password'\n",
    "print(password(pwd))"
   ]
  },
  {
   "cell_type": "markdown",
   "id": "1785802c-5084-4718-848c-948db336c741",
   "metadata": {},
   "source": [
    "## Q2. Solve the below-given questions using at least one of the following:\n",
    "Lambda function\n",
    "Filter function\n",
    "Zap function\n",
    "List Comprehension\n",
    "Check if the string starts with a particular letter\n",
    "Check if the string is numeric\n",
    "Sort a list of tuples having fruit names and their quantity. [(\"mango\",99),(\"orange\",80), (\"grapes\", 1000)]\n",
    "Find the squares of numbers from 1 to 10\n",
    "Find the cube root of numbers from 1 to 10\n",
    "Check if a given number is even\n",
    "Filter odd numbers from the given list.\n",
    "[1,2,3,4,5,6,7,8,9,10]\n",
    "\n",
    "Sort a list of integers into positive and negative integers lists.\n",
    "[1,2,3,4,5,6,-1,-2,-3,-4,-5,0]"
   ]
  },
  {
   "cell_type": "markdown",
   "id": "94b4506c-6cc3-4728-9080-8920bac98b12",
   "metadata": {},
   "source": [
    "1. Check if the string starts with a particular letter using list comprehension:"
   ]
  },
  {
   "cell_type": "code",
   "execution_count": 4,
   "id": "82836796-7723-4576-8928-1b9ab4da013f",
   "metadata": {},
   "outputs": [
    {
     "name": "stdout",
     "output_type": "stream",
     "text": [
      "['apple']\n"
     ]
    }
   ],
   "source": [
    "strings = ['apple', 'banana', 'orange', 'mango']\n",
    "letter = 'a'\n",
    "result = [s for s in strings if s.startswith(letter)]\n",
    "print(result)"
   ]
  },
  {
   "cell_type": "markdown",
   "id": "b315dd3d-3507-4ffc-87a6-f122bf54afaf",
   "metadata": {},
   "source": [
    "2. Check if the string is numeric using lambda function and isnumeric() method:"
   ]
  },
  {
   "cell_type": "code",
   "execution_count": 5,
   "id": "1116c995-c222-45b0-991e-d2dc262da258",
   "metadata": {},
   "outputs": [
    {
     "name": "stdout",
     "output_type": "stream",
     "text": [
      "['123']\n"
     ]
    }
   ],
   "source": [
    "strings = ['123', 'abc', '3.14', '1e3', '-42']\n",
    "result = list(filter(lambda s: s.isnumeric(), strings))\n",
    "print(result)"
   ]
  },
  {
   "cell_type": "markdown",
   "id": "8ec8d93f-0894-4a1e-a5c0-6e35c658a8d7",
   "metadata": {},
   "source": [
    "3. Sort a list of tuples having fruit names and their quantity using lambda function:"
   ]
  },
  {
   "cell_type": "code",
   "execution_count": 6,
   "id": "39827103-1dab-4ba1-881e-96acaf31b1fe",
   "metadata": {},
   "outputs": [
    {
     "name": "stdout",
     "output_type": "stream",
     "text": [
      "[('orange', 80), ('mango', 99), ('grapes', 1000)]\n"
     ]
    }
   ],
   "source": [
    "fruits = [(\"mango\",99),(\"orange\",80), (\"grapes\", 1000)]\n",
    "result = sorted(fruits, key=lambda x: x[1])\n",
    "print(result)"
   ]
  },
  {
   "cell_type": "markdown",
   "id": "fada4b1c-ccf9-4836-b7d4-a2f2e86752b3",
   "metadata": {},
   "source": [
    "4. Find the squares of numbers from 1 to 10 using list comprehension:"
   ]
  },
  {
   "cell_type": "code",
   "execution_count": 7,
   "id": "ead207b7-4218-4bb7-94e1-ee32cdfed9a6",
   "metadata": {},
   "outputs": [
    {
     "name": "stdout",
     "output_type": "stream",
     "text": [
      "[1, 4, 9, 16, 25, 36, 49, 64, 81, 100]\n"
     ]
    }
   ],
   "source": [
    "result = [x**2 for x in range(1, 11)]\n",
    "print(result)"
   ]
  },
  {
   "cell_type": "markdown",
   "id": "19eaa4fb-d209-4108-8cda-3b2be0a3557d",
   "metadata": {},
   "source": [
    "5. Find the cube root of numbers from 1 to 10 using map function and lambda function:"
   ]
  },
  {
   "cell_type": "code",
   "execution_count": null,
   "id": "c626783d-3479-47ae-8e56-f856c64d763c",
   "metadata": {},
   "outputs": [],
   "source": []
  }
 ],
 "metadata": {
  "kernelspec": {
   "display_name": "Python 3 (ipykernel)",
   "language": "python",
   "name": "python3"
  },
  "language_info": {
   "codemirror_mode": {
    "name": "ipython",
    "version": 3
   },
   "file_extension": ".py",
   "mimetype": "text/x-python",
   "name": "python",
   "nbconvert_exporter": "python",
   "pygments_lexer": "ipython3",
   "version": "3.10.8"
  }
 },
 "nbformat": 4,
 "nbformat_minor": 5
}
