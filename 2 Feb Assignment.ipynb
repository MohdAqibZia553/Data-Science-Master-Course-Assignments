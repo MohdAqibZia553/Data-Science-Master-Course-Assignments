{
 "cells": [
  {
   "cell_type": "markdown",
   "id": "0c4ed9b2-d76e-4dd1-af49-ec06ffe22725",
   "metadata": {},
   "source": [
    "# 2 Feb Assignment"
   ]
  },
  {
   "cell_type": "markdown",
   "id": "01b18967-4ecd-4567-8a3b-f56d142764ab",
   "metadata": {},
   "source": [
    "## Q.1) What are the characteristics of the tuples? Is tuple immutable?"
   ]
  },
  {
   "cell_type": "markdown",
   "id": "77c3d5a1-e1dc-411e-a817-fdb69b933712",
   "metadata": {},
   "source": [
    "Ans. A tuple is an ordered, immutable, and collection of elements of any type. Here are some of the characteristics of tuples in Python:\n",
    "Ordered: The elements in a tuple have a specific order, and the order is maintained.\n",
    "\n",
    "Immutable: Once a tuple is created, the elements cannot be modified or changed. This makes tuples useful for representing data that should not change, such as dates, coordinate points, etc.\n",
    "\n",
    "Collection of elements: Tuples can contain elements of any type, including other tuples, making them a versatile data structure.\n",
    "\n",
    "Indexable: The elements in a tuple can be accessed by their index, just like a list.\n",
    "\n",
    "Heterogeneous: The elements in a tuple can be of different data types, unlike lists that can only contain elements of the same data type.\n",
    "\n",
    "Yes, tuples are immutable. They are similar to lists in many ways, but unlike lists, you cannot modify the elements of a tuple after they have been created."
   ]
  },
  {
   "cell_type": "markdown",
   "id": "47189bcb-b39c-4ce4-9cf7-cd2a4c85467e",
   "metadata": {},
   "source": [
    "## Q.2) What are the two tuple methods in python? Give an example of each method and give a reason why tuples have only two in-built methods as compared to Lists."
   ]
  },
  {
   "cell_type": "markdown",
   "id": "91f5892c-bfc1-4a20-b57d-769b2aa9a047",
   "metadata": {},
   "source": [
    "Ans: Tuples have two in-built methods in Python:\n",
    "\n",
    "1-count() method: This method returns the number of times a specific element appears in a tuple."
   ]
  },
  {
   "cell_type": "code",
   "execution_count": 1,
   "id": "b7a84940-adad-4a3a-8c6e-c0f30c2a1afb",
   "metadata": {},
   "outputs": [
    {
     "name": "stdout",
     "output_type": "stream",
     "text": [
      "The number 2 appears 2 times in the tuple.\n"
     ]
    }
   ],
   "source": [
    "# define a tuple\n",
    "numbers = (1, 2, 3, 4, 5, 1, 2, 3)\n",
    "\n",
    "# count the number of times the number 2 appears\n",
    "count = numbers.count(2)\n",
    "print(\"The number 2 appears\", count, \"times in the tuple.\")"
   ]
  },
  {
   "cell_type": "markdown",
   "id": "4fed6a56-7ea7-4512-95e2-de2c2bf7894a",
   "metadata": {},
   "source": [
    "2-index() method: This method returns the index of the first occurrence of a specific element in a tuple."
   ]
  },
  {
   "cell_type": "code",
   "execution_count": 5,
   "id": "d0f4e085-488a-4b0d-8da0-ecc4a2e879cf",
   "metadata": {},
   "outputs": [
    {
     "name": "stdout",
     "output_type": "stream",
     "text": [
      "The first occurrence of the word 'apple' is at index 0 in the tup\n"
     ]
    }
   ],
   "source": [
    "# define a tuple\n",
    "fruits = (\"apple\", \"banana\", \"cherry\", \"apple\")\n",
    "\n",
    "# find the index of the first occurrence of the word \"apple\"\n",
    "index = fruits.index(\"apple\")\n",
    "print(\"The first occurrence of the word 'apple' is at index\", index, \"in the tup\")"
   ]
  },
  {
   "cell_type": "markdown",
   "id": "5ac3b8d9-88af-4431-bb04-df4d42412657",
   "metadata": {},
   "source": [
    "Tuples have only two in-built methods as compared to lists because they are meant to be used as a collection of immutable values. Lists, on the other hand, are meant to be used as collections of mutable values, and thus have more methods available to modify and manipulate the elements. The two methods available for tuples are enough for their intended purpose, which is to provide an ordered collection of elements that cannot be changed."
   ]
  },
  {
   "cell_type": "markdown",
   "id": "cd50aa66-8393-4021-b4c2-a68ccacdc9fa",
   "metadata": {},
   "source": [
    "## Q.3) Which collection datatypes in python do not allow duplicate items? Write a code using a set to remove duplicates from the given list.\n",
    "List = [1, 1, 1, 2, 1, 3, 1, 4, 2, 1, 2, 2, 2, 3, 2, 4, 3, 1, 3, 2, 3, 3, 3, 4, 4, 1, 4, 2, 4, 3, 4, 4]"
   ]
  },
  {
   "cell_type": "markdown",
   "id": "97d54f23-9042-402a-922c-351fce70d23b",
   "metadata": {},
   "source": [
    "Ans-Sets in Python do not allow duplicate items. You can use a set to remove duplicates from a list by converting the list into a set and then back into a list. The set will automatically remove all duplicates, and then you can convert it back into a list to get a new list without duplicates."
   ]
  },
  {
   "cell_type": "code",
   "execution_count": 6,
   "id": "cf808300-226b-45bf-87b1-600379264917",
   "metadata": {},
   "outputs": [
    {
     "name": "stdout",
     "output_type": "stream",
     "text": [
      "List without duplicates: [1, 2, 3, 4]\n"
     ]
    }
   ],
   "source": [
    "List = [1, 1, 1, 2, 1, 3, 1, 4, 2, 1, 2, 2, 2, 3, 2, 4, 3, 1, 3, 2, 3, 3, 3, 4, 4, 1, 4, 2, 4, 3, 4, 4]\n",
    "\n",
    "# convert the list into a set\n",
    "no_duplicates = set(List)\n",
    "\n",
    "# convert the set back into a list\n",
    "no_duplicates = list(no_duplicates)\n",
    "\n",
    "print(\"List without duplicates:\", no_duplicates)"
   ]
  },
  {
   "cell_type": "markdown",
   "id": "024c5c38-cd56-421b-a1a0-88b39833281d",
   "metadata": {},
   "source": [
    "## Q.4) Explain the difference between the union() and update() methods for a set. Give an example of each method."
   ]
  },
  {
   "cell_type": "markdown",
   "id": "98f6a52b-ba90-44a2-85ba-df74f017268a",
   "metadata": {},
   "source": [
    "The union() and update() methods are used to merge two sets in Python. However, there is a difference between the two methods.\n",
    "The union() method returns a set that contains all the elements from both the sets being merged, but it does not modify either of the sets.\n",
    "Here is an example:"
   ]
  },
  {
   "cell_type": "code",
   "execution_count": 7,
   "id": "77fc7711-b563-4805-91df-5013a999a667",
   "metadata": {},
   "outputs": [
    {
     "name": "stdout",
     "output_type": "stream",
     "text": [
      "Union of set1 and set2: {1, 2, 3, 4, 5, 6}\n"
     ]
    }
   ],
   "source": [
    "set1 = {1, 2, 3, 4}\n",
    "set2 = {3, 4, 5, 6}\n",
    "\n",
    "# union of set1 and set2\n",
    "result = set1.union(set2)\n",
    "\n",
    "print(\"Union of set1 and set2:\", result)"
   ]
  },
  {
   "cell_type": "markdown",
   "id": "7e4a12fd-b457-42fb-b585-9f4ae55cb33d",
   "metadata": {},
   "source": [
    "On the other hand, the update() method merges the elements from one set into another set, and the original set is modified. Here is an example:"
   ]
  },
  {
   "cell_type": "code",
   "execution_count": 8,
   "id": "22b59bc3-a899-4709-990e-c6b426c26f67",
   "metadata": {},
   "outputs": [
    {
     "name": "stdout",
     "output_type": "stream",
     "text": [
      "set1 after update: {1, 2, 3, 4, 5, 6}\n"
     ]
    }
   ],
   "source": [
    "set1 = {1, 2, 3, 4}\n",
    "set2 = {3, 4, 5, 6}\n",
    "\n",
    "# update set1 with elements of set2\n",
    "set1.update(set2)\n",
    "\n",
    "print(\"set1 after update:\", set1)"
   ]
  },
  {
   "cell_type": "markdown",
   "id": "f4234717-8dff-4bdf-a366-70f33d59a10e",
   "metadata": {},
   "source": [
    "So, the key difference between the two methods is that the union() method returns a new set with the merged elements, whereas the update() method updates the original set with the elements from another set."
   ]
  },
  {
   "cell_type": "markdown",
   "id": "207f6424-6db6-45b9-a83f-24a63adf1b5e",
   "metadata": {},
   "source": [
    "## Q.5) What is a dictionary? Give an example. Also, state whether a dictionary is ordered or unordered."
   ]
  },
  {
   "cell_type": "markdown",
   "id": "a74f43a2-8aa1-43e3-b307-905fbbb160f8",
   "metadata": {},
   "source": [
    "A dictionary is a collection data type in Python that is used to store key-value pairs. In a dictionary, each key maps to a value. The keys and values can be of any data type, including integers, strings, lists, etc.\n",
    "Here is an example of a dictionary:"
   ]
  },
  {
   "cell_type": "code",
   "execution_count": 9,
   "id": "e3152b51-6080-4650-ac02-44b2a49fd943",
   "metadata": {},
   "outputs": [],
   "source": [
    "employee = {'Name': 'Aqib', 'Age': 24, 'Designation': 'Student'}"
   ]
  },
  {
   "cell_type": "markdown",
   "id": "b1133cb2-0c71-456b-b356-2b9183314bb6",
   "metadata": {},
   "source": [
    "Dictionaries in Python are unordered. This means that the elements in a dictionary are not stored in a specific order. When you retrieve elements from a dictionary, they may not be returned in the same order as they were added."
   ]
  },
  {
   "cell_type": "markdown",
   "id": "a317ff31-1ad2-4229-b107-08cc0233f137",
   "metadata": {},
   "source": [
    "## Q.6) Can we create a nested dictionary? If so, please give an example by creating a simple one-level nested dictionary."
   ]
  },
  {
   "cell_type": "markdown",
   "id": "13e48164-f7b8-4065-b3ab-3403c7891fce",
   "metadata": {},
   "source": [
    "Yes, you can create a nested dictionary in Python. A nested dictionary is a dictionary that contains another dictionary as its value.\n",
    "Here is an example of a one-level nested dictionary:"
   ]
  },
  {
   "cell_type": "code",
   "execution_count": 10,
   "id": "da18b4b6-2ed1-4e97-b97d-9633dea2eac1",
   "metadata": {},
   "outputs": [],
   "source": [
    "employee = {'Aqib': {'Age': 28, 'Designation': 'Quality Control Analyst'},\n",
    "            'Sam': {'Age': 30, 'Designation': 'Senior Accounts Receivable'},\n",
    "            'Anish': {'Age': 26, 'Designation': 'Quality Analyst'}}"
   ]
  },
  {
   "cell_type": "markdown",
   "id": "a66d2c10-7397-4431-8d3f-c9c3d2efb3b2",
   "metadata": {},
   "source": [
    "In this example, the main dictionary employee has three keys, 'Aqib', 'Sam', and 'Anish', that map to three separate dictionaries. Each of these dictionaries contains two key-value pairs that store the age and designation of an employee."
   ]
  },
  {
   "cell_type": "markdown",
   "id": "ede6be3b-df7c-4568-8bf2-e75604872b86",
   "metadata": {},
   "source": [
    "## Q.7) Using setdefault() method, create key named topics in the given dictionary and also add the value of the key as this list ['Python', 'Machine Learning’, 'Deep Learning']\n",
    "dict1 = {'language' : 'Python', 'course': 'Data Science Masters'}\n",
    "\n",
    "Using the setdefault() method to add a key named 'topics' with the value ['Python', 'Machine Learning', 'Deep Learning'] to the dictionary dict1:"
   ]
  },
  {
   "cell_type": "code",
   "execution_count": 12,
   "id": "e30f17aa-85b2-4214-8b9e-a93d335b97cf",
   "metadata": {},
   "outputs": [
    {
     "name": "stdout",
     "output_type": "stream",
     "text": [
      "{'language': 'Python', 'course': 'Data Science Masters', 'topics': ['Python', 'Machine Learning', 'Deep Learning']}\n"
     ]
    }
   ],
   "source": [
    "dict1 = {'language' : 'Python', 'course': 'Data Science Masters'}\n",
    "\n",
    "dict1.setdefault('topics', ['Python', 'Machine Learning', 'Deep Learning'])\n",
    "\n",
    "print(dict1)"
   ]
  },
  {
   "cell_type": "markdown",
   "id": "c34e6464-7757-491d-bf35-2e5692d0758b",
   "metadata": {},
   "source": [
    "## Q.8) What are the three view objects in dictionaries? Use the three in-built methods in python to display these three view objects for the given dictionary.\n",
    "dict1 = {'Sport': 'Cricket' , 'Teams': ['India', 'Australia', 'England', 'South Africa', 'Sri Lanka', 'New Zealand']}"
   ]
  },
  {
   "cell_type": "markdown",
   "id": "a280d5a0-dae2-44af-a20b-b20407770514",
   "metadata": {},
   "source": [
    "The three view objects in dictionaries are: keys(), values(), and items(). To display these three view objects, we can use the following in-built methods"
   ]
  },
  {
   "cell_type": "code",
   "execution_count": null,
   "id": "81f959c8-a2bc-4389-a822-602ef690c38f",
   "metadata": {},
   "outputs": [],
   "source": []
  }
 ],
 "metadata": {
  "kernelspec": {
   "display_name": "Python 3 (ipykernel)",
   "language": "python",
   "name": "python3"
  },
  "language_info": {
   "codemirror_mode": {
    "name": "ipython",
    "version": 3
   },
   "file_extension": ".py",
   "mimetype": "text/x-python",
   "name": "python",
   "nbconvert_exporter": "python",
   "pygments_lexer": "ipython3",
   "version": "3.10.8"
  }
 },
 "nbformat": 4,
 "nbformat_minor": 5
}
